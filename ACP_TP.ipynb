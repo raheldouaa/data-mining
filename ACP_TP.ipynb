{
  "nbformat": 4,
  "nbformat_minor": 0,
  "metadata": {
    "colab": {
      "provenance": []
    },
    "kernelspec": {
      "name": "python3",
      "display_name": "Python 3"
    },
    "language_info": {
      "name": "python"
    }
  },
  "cells": [
    {
      "cell_type": "code",
      "source": [
        "!pip install xlrd"
      ],
      "metadata": {
        "colab": {
          "base_uri": "https://localhost:8080/"
        },
        "id": "m23rAjS9pKBU",
        "outputId": "4062386b-135b-45b0-e9ca-206348b2bb46"
      },
      "execution_count": null,
      "outputs": [
        {
          "output_type": "stream",
          "name": "stdout",
          "text": [
            "Requirement already satisfied: xlrd in /usr/local/lib/python3.7/dist-packages (2.0.1)\n"
          ]
        }
      ]
    },
    {
      "cell_type": "code",
      "source": [
        "!pip install pandas"
      ],
      "metadata": {
        "colab": {
          "base_uri": "https://localhost:8080/"
        },
        "id": "IM_ESWzutb3U",
        "outputId": "ea859982-078f-44e7-89d4-d111198a4d48"
      },
      "execution_count": null,
      "outputs": [
        {
          "output_type": "stream",
          "name": "stdout",
          "text": [
            "Requirement already satisfied: pandas in /usr/local/lib/python3.7/dist-packages (1.3.5)\n",
            "Requirement already satisfied: numpy>=1.17.3 in /usr/local/lib/python3.7/dist-packages (from pandas) (1.21.5)\n",
            "Requirement already satisfied: pytz>=2017.3 in /usr/local/lib/python3.7/dist-packages (from pandas) (2018.9)\n",
            "Requirement already satisfied: python-dateutil>=2.7.3 in /usr/local/lib/python3.7/dist-packages (from pandas) (2.8.2)\n",
            "Requirement already satisfied: six>=1.5 in /usr/local/lib/python3.7/dist-packages (from python-dateutil>=2.7.3->pandas) (1.15.0)\n"
          ]
        }
      ]
    },
    {
      "cell_type": "code",
      "source": [
        "import pandas \n",
        "print(pandas.__version__) "
      ],
      "metadata": {
        "colab": {
          "base_uri": "https://localhost:8080/"
        },
        "id": "LEXA4hzWpSLn",
        "outputId": "a8fba6fa-95ed-4938-f37a-0fafdea47210"
      },
      "execution_count": null,
      "outputs": [
        {
          "output_type": "stream",
          "name": "stdout",
          "text": [
            "1.3.5\n"
          ]
        }
      ]
    },
    {
      "cell_type": "code",
      "source": [
        "!pip install openpyxl"
      ],
      "metadata": {
        "id": "7fI7TFOapekv",
        "outputId": "bf2c08f4-6edf-4118-dd86-480f733d11b1",
        "colab": {
          "base_uri": "https://localhost:8080/"
        }
      },
      "execution_count": null,
      "outputs": [
        {
          "output_type": "stream",
          "name": "stdout",
          "text": [
            "Requirement already satisfied: openpyxl in /usr/local/lib/python3.7/dist-packages (3.0.9)\n",
            "Requirement already satisfied: et-xmlfile in /usr/local/lib/python3.7/dist-packages (from openpyxl) (1.1.0)\n"
          ]
        }
      ]
    },
    {
      "cell_type": "code",
      "source": [
        "!pip install --upgrade --force-reinstall xlrd"
      ],
      "metadata": {
        "colab": {
          "base_uri": "https://localhost:8080/",
          "height": 257
        },
        "id": "ipaRR8HstLEx",
        "outputId": "7b2aca12-77ff-4354-9d2e-aba7d639c042"
      },
      "execution_count": null,
      "outputs": [
        {
          "output_type": "stream",
          "name": "stdout",
          "text": [
            "Collecting xlrd\n",
            "  Using cached xlrd-2.0.1-py2.py3-none-any.whl (96 kB)\n",
            "Installing collected packages: xlrd\n",
            "  Attempting uninstall: xlrd\n",
            "    Found existing installation: xlrd 2.0.1\n",
            "    Uninstalling xlrd-2.0.1:\n",
            "      Successfully uninstalled xlrd-2.0.1\n",
            "Successfully installed xlrd-2.0.1\n"
          ]
        },
        {
          "output_type": "display_data",
          "data": {
            "application/vnd.colab-display-data+json": {
              "pip_warning": {
                "packages": [
                  "xlrd"
                ]
              }
            }
          },
          "metadata": {}
        }
      ]
    },
    {
      "cell_type": "code",
      "execution_count": null,
      "metadata": {
        "id": "yP27Kkwbn3x3"
      },
      "outputs": [],
      "source": [
        "import pandas\n",
        "import xlrd\n",
        "X = pandas.read_excel(\"/content/cars.xlsx\",sheet_name=0,header=0,index_col=0).fillna(value=0)"
      ]
    },
    {
      "cell_type": "markdown",
      "source": [
        "dimension"
      ],
      "metadata": {
        "id": "29UUH83Nvaak"
      }
    },
    {
      "cell_type": "code",
      "source": [
        "print(X.shape)"
      ],
      "metadata": {
        "id": "T-H5tOkaoiHj",
        "colab": {
          "base_uri": "https://localhost:8080/"
        },
        "outputId": "1e6db8aa-70fa-4ed5-c8fa-f267972d8b86"
      },
      "execution_count": null,
      "outputs": [
        {
          "output_type": "stream",
          "name": "stdout",
          "text": [
            "(18, 6)\n"
          ]
        }
      ]
    },
    {
      "cell_type": "markdown",
      "source": [
        "affichage les données"
      ],
      "metadata": {
        "id": "8o5CBDtavkPJ"
      }
    },
    {
      "cell_type": "code",
      "source": [
        "print(X)"
      ],
      "metadata": {
        "id": "QpQxhEGtoPE8",
        "colab": {
          "base_uri": "https://localhost:8080/"
        },
        "outputId": "878e6ffe-210d-486a-bb60-5baa63748714"
      },
      "execution_count": null,
      "outputs": [
        {
          "output_type": "stream",
          "name": "stdout",
          "text": [
            "                  CYL  PUISS  LONG  LARG  POIDS  V.MAX\n",
            "Modele                                                \n",
            "Alfasud TI       1350     79   393   161    870    165\n",
            "Audi 100         1588     85   468   177   1110    160\n",
            "Simca 1300       1294     68   424   168   1050    152\n",
            "Citroen GS Club  1222     59   412   161    930    151\n",
            "Fiat 132         1585     98   439   164   1105    165\n",
            "Lancia Beta      1297     82   429   169   1080    160\n",
            "Peugeot 504      1796     79   449   169   1160    154\n",
            "Renault 16 TL    1565     55   424   163   1010    140\n",
            "Renault 30       2664    128   452   173   1320    180\n",
            "Toyota Corolla   1166     55   399   157    815    140\n",
            "Alfetta 1.66     1570    109   428   162   1060    175\n",
            "Princess 1800    1798     82   445   172   1160    158\n",
            "Datsun 200L      1998    115   469   169   1370    160\n",
            "Taunus 2000      1993     98   438   170   1080    167\n",
            "Rancho           1442     80   431   166   1129    144\n",
            "Mazda 9295       1769     83   440   165   1095    165\n",
            "Opel Rekord      1979    100   459   173   1120    173\n",
            "Lada 1300        1294     68   404   161    955    140\n"
          ]
        }
      ]
    },
    {
      "cell_type": "markdown",
      "source": [
        "**Préparation des données**"
      ],
      "metadata": {
        "id": "pgOJEvXmwMyy"
      }
    },
    {
      "cell_type": "markdown",
      "source": [
        "centrer et réduire les variables"
      ],
      "metadata": {
        "id": "FmSLunk80ms_"
      }
    },
    {
      "cell_type": "code",
      "source": [
        "from sklearn.preprocessing import StandardScaler\n",
        "\n",
        "sc = StandardScaler()\n",
        "\n",
        "#transformation – centrage-réduction\n",
        "Z = sc.fit_transform(X)\n",
        "print(Z)"
      ],
      "metadata": {
        "colab": {
          "base_uri": "https://localhost:8080/"
        },
        "id": "wd2Ulv_rvqUP",
        "outputId": "c10c698f-af22-4886-acd4-19b087a80329"
      },
      "execution_count": null,
      "outputs": [
        {
          "output_type": "stream",
          "name": "stdout",
          "text": [
            "[[-0.77509889 -0.28335818 -1.88508077 -1.09734528 -1.56900676  0.56976043]\n",
            " [-0.12016326  0.01963869  1.60580955  2.0010414   0.23416142  0.14597168]\n",
            " [-0.92920139 -0.83885242 -0.44217944  0.25819889 -0.21663062 -0.53209032]\n",
            " [-1.12733318 -1.29334771 -1.00072189 -1.09734528 -1.11821472 -0.61684807]\n",
            " [-0.12841875  0.67613189  0.25599862 -0.51639778  0.19659542  0.56976043]\n",
            " [-0.9209459  -0.13185975 -0.20945342  0.45184806  0.0087654   0.14597168]\n",
            " [ 0.45221746 -0.28335818  0.72145067  0.45184806  0.60982146 -0.36257482]\n",
            " [-0.18345536 -1.49534562 -0.44217944 -0.71004695 -0.51715865 -1.54918332]\n",
            " [ 2.84080623  2.19111619  0.86108628  1.22644473  1.81193359  1.84112668]\n",
            " [-1.28143568 -1.49534562 -1.60580955 -1.87194195 -1.98223281 -1.54918332]\n",
            " [-0.16969621  1.23162613 -0.25599862 -0.90369611 -0.14149861  1.41733793]\n",
            " [ 0.45772112 -0.13185975  0.53526985  1.03279556  0.60982146 -0.02354382]\n",
            " [ 1.0080872   1.53462299  1.65235475  0.45184806  2.18759363  0.14597168]\n",
            " [ 0.99432805  0.67613189  0.20945342  0.64549722  0.0087654   0.73927593]\n",
            " [-0.5219305  -0.2328587  -0.11636301 -0.12909944  0.37691224 -1.21015232]\n",
            " [ 0.37791804 -0.08136027  0.30254383 -0.32274861  0.12146341  0.56976043]\n",
            " [ 0.95580242  0.77713084  1.18690271  1.22644473  0.30929343  1.24782243]\n",
            " [-0.92920139 -0.83885242 -1.37308353 -1.09734528 -0.9303847  -1.54918332]]\n"
          ]
        }
      ]
    },
    {
      "cell_type": "markdown",
      "source": [
        "moyenne"
      ],
      "metadata": {
        "id": "Sdvz2ugs5FjF"
      }
    },
    {
      "cell_type": "code",
      "source": [
        "import numpy\n",
        "\n",
        "print(numpy.mean(Z,axis=0))"
      ],
      "metadata": {
        "colab": {
          "base_uri": "https://localhost:8080/"
        },
        "id": "SZwGsWMe4pJw",
        "outputId": "158ca267-9eff-4dff-fa8b-0cdb5122024d"
      },
      "execution_count": null,
      "outputs": [
        {
          "output_type": "stream",
          "name": "stdout",
          "text": [
            "[-2.22044605e-16 -1.41861831e-16  0.00000000e+00  1.86270752e-15\n",
            "  5.73615229e-16  5.55111512e-16]\n"
          ]
        }
      ]
    },
    {
      "cell_type": "markdown",
      "source": [
        "écart-type"
      ],
      "metadata": {
        "id": "Y7TeoDcn5LyG"
      }
    },
    {
      "cell_type": "code",
      "source": [
        "print(numpy.std(Z,axis=0,ddof=0))"
      ],
      "metadata": {
        "colab": {
          "base_uri": "https://localhost:8080/"
        },
        "id": "N2HWf8WS5CFf",
        "outputId": "e9338129-8e2a-49cf-a763-1329c0008ea8"
      },
      "execution_count": null,
      "outputs": [
        {
          "output_type": "stream",
          "name": "stdout",
          "text": [
            "[1. 1. 1. 1. 1. 1.]\n"
          ]
        }
      ]
    },
    {
      "cell_type": "markdown",
      "source": [
        "**Analyse en composantes principales**"
      ],
      "metadata": {
        "id": "ypBz8y725sii"
      }
    },
    {
      "cell_type": "code",
      "source": [
        "from sklearn.decomposition import PCA\n",
        "\n",
        "acp = PCA(svd_solver='full')"
      ],
      "metadata": {
        "id": "8Ea3RG0O5O6B"
      },
      "execution_count": null,
      "outputs": []
    },
    {
      "cell_type": "markdown",
      "source": [
        "affichage des paramètres"
      ],
      "metadata": {
        "id": "7ShWq-rE8D7f"
      }
    },
    {
      "cell_type": "markdown",
      "source": [
        "Le paramètre svd_solver = ‘full’ indique l’algorithme utilisé pour la décomposition en valeurs singulières."
      ],
      "metadata": {
        "id": "6PDIW6HP8Myj"
      }
    },
    {
      "cell_type": "code",
      "source": [
        "print(acp)"
      ],
      "metadata": {
        "colab": {
          "base_uri": "https://localhost:8080/"
        },
        "id": "TncHUGAy524m",
        "outputId": "c7717165-c7ea-4b97-80bd-5ec045b883cd"
      },
      "execution_count": null,
      "outputs": [
        {
          "output_type": "stream",
          "name": "stdout",
          "text": [
            "PCA(svd_solver='full')\n"
          ]
        }
      ]
    },
    {
      "cell_type": "markdown",
      "source": [
        "La fonction fit_transform() renvoie en sortie les coordonnées factorielles Fik "
      ],
      "metadata": {
        "id": "WZyu3GUeCm03"
      }
    },
    {
      "cell_type": "code",
      "source": [
        "coord = acp.fit_transform(Z)"
      ],
      "metadata": {
        "id": "MmG96oLm57Yi"
      },
      "execution_count": null,
      "outputs": []
    },
    {
      "cell_type": "markdown",
      "source": [
        "obtenir les variances (valeurs propres, λk) associées aux axes factoriels"
      ],
      "metadata": {
        "id": "QebmE9x9DJYu"
      }
    },
    {
      "cell_type": "code",
      "source": [
        "print(acp.explained_variance_)"
      ],
      "metadata": {
        "colab": {
          "base_uri": "https://localhost:8080/"
        },
        "id": "IY-XDLpHCueR",
        "outputId": "ced6452e-3027-40f2-f03c-4a79870517b8"
      },
      "execution_count": null,
      "outputs": [
        {
          "output_type": "stream",
          "name": "stdout",
          "text": [
            "[4.68090853 0.90641889 0.39501114 0.22650574 0.09826011 0.04583676]\n"
          ]
        }
      ]
    },
    {
      "cell_type": "markdown",
      "source": [
        "nombre d'observations"
      ],
      "metadata": {
        "id": "edlNe3CMDyHF"
      }
    },
    {
      "cell_type": "code",
      "source": [
        "n = X.shape[0]"
      ],
      "metadata": {
        "id": "EQk_PAH7DvzP"
      },
      "execution_count": null,
      "outputs": []
    },
    {
      "cell_type": "markdown",
      "source": [
        "nombre de variables"
      ],
      "metadata": {
        "id": "KFI6WqCRFPuc"
      }
    },
    {
      "cell_type": "code",
      "source": [
        "m = X.shape[1]"
      ],
      "metadata": {
        "id": "N094PWc-FO6c"
      },
      "execution_count": null,
      "outputs": []
    },
    {
      "cell_type": "markdown",
      "source": [
        "attention pas les meme valeurs"
      ],
      "metadata": {
        "id": "-Ce0KjLtEx5t"
      }
    },
    {
      "cell_type": "code",
      "source": [
        "eigval = (n-1)/n*acp.explained_variance_\n",
        "print(eigval)"
      ],
      "metadata": {
        "colab": {
          "base_uri": "https://localhost:8080/"
        },
        "id": "G7WS18FjEv0A",
        "outputId": "dda325df-c731-42ed-9940-c4b5839f50b9"
      },
      "execution_count": null,
      "outputs": [
        {
          "output_type": "stream",
          "name": "stdout",
          "text": [
            "[4.42085806 0.85606229 0.37306608 0.21392209 0.09280121 0.04329027]\n"
          ]
        }
      ]
    },
    {
      "cell_type": "markdown",
      "source": [
        "les valeurs singulières"
      ],
      "metadata": {
        "id": "u153VeN_Dfem"
      }
    },
    {
      "cell_type": "code",
      "source": [
        "print(acp.singular_values_**2/n)"
      ],
      "metadata": {
        "colab": {
          "base_uri": "https://localhost:8080/"
        },
        "id": "vDzdeiD6DQcO",
        "outputId": "70851c84-c34a-4597-e900-72aa90e3597b"
      },
      "execution_count": null,
      "outputs": [
        {
          "output_type": "stream",
          "name": "stdout",
          "text": [
            "[4.42085806 0.85606229 0.37306608 0.21392209 0.09280121 0.04329027]\n"
          ]
        }
      ]
    },
    {
      "cell_type": "code",
      "source": [
        "print(acp.explained_variance_ratio_)"
      ],
      "metadata": {
        "colab": {
          "base_uri": "https://localhost:8080/"
        },
        "id": "ppyyBvukDjs8",
        "outputId": "bbc3f2df-036e-4ae7-c640-f32a8900e774"
      },
      "execution_count": null,
      "outputs": [
        {
          "output_type": "stream",
          "name": "stdout",
          "text": [
            "[0.73680968 0.14267705 0.06217768 0.03565368 0.01546687 0.00721505]\n"
          ]
        }
      ]
    },
    {
      "cell_type": "markdown",
      "source": [
        "La première composante accapare 73.68% de l’information disponible. Il y a un fort ‘’effet taille’’ dans nos données. Nous disposons de 87.94% avec les deux premiers facteurs. Les suivants semblent anecdotiques."
      ],
      "metadata": {
        "id": "oQiQgL8EI-SC"
      }
    },
    {
      "cell_type": "markdown",
      "source": [
        "**Détermination du nombre de facteur à retenir**"
      ],
      "metadata": {
        "id": "ppMK88jII1uj"
      }
    },
    {
      "cell_type": "markdown",
      "source": [
        "test des bâtons brisés"
      ],
      "metadata": {
        "id": "w6bi7L5iJ35R"
      }
    },
    {
      "cell_type": "markdown",
      "source": [
        "𝑏𝑘 = ∑ 1/m        \n",
        "m de k à p"
      ],
      "metadata": {
        "id": "6fJUIp_YJbis"
      }
    },
    {
      "cell_type": "code",
      "source": [
        "bs = 1/numpy.arange(m,0,-1)\n",
        "bs = numpy.cumsum(bs)\n",
        "bs = bs[::-1]\n",
        "print(pandas.DataFrame({'Val.Propre':eigval,'Seuils':bs}))"
      ],
      "metadata": {
        "colab": {
          "base_uri": "https://localhost:8080/"
        },
        "id": "qha1xZ8sERVp",
        "outputId": "26fd457c-b8c3-45a5-e8d7-c058f5e4d8c0"
      },
      "execution_count": null,
      "outputs": [
        {
          "output_type": "stream",
          "name": "stdout",
          "text": [
            "   Val.Propre    Seuils\n",
            "0    4.420858  2.450000\n",
            "1    0.856062  1.450000\n",
            "2    0.373066  0.950000\n",
            "3    0.213922  0.616667\n",
            "4    0.092801  0.366667\n",
            "5    0.043290  0.166667\n"
          ]
        }
      ]
    },
    {
      "cell_type": "markdown",
      "source": [
        "**Représentation des individus**"
      ],
      "metadata": {
        "id": "kZd_rz2OKSY7"
      }
    },
    {
      "cell_type": "code",
      "source": [
        "import matplotlib.pyplot as plt\n",
        "\n",
        "fig, axes = plt.subplots(figsize=(12,12))\n",
        "\n",
        "axes.set_xlim(-6,6)\n",
        "axes.set_ylim(-6,6)\n",
        "\n",
        "for i in range(n):\n",
        "  plt.annotate(X.index[i],(coord[i,0],coord[i,1]))\n",
        "\n",
        "plt.plot([-6,6],[0,0],color='silver',linestyle='-',linewidth=1)\n",
        "plt.plot([0,0],[-6,6],color='silver',linestyle='-',linewidth=1)\n",
        "\n",
        "plt.show()"
      ],
      "metadata": {
        "colab": {
          "base_uri": "https://localhost:8080/",
          "height": 704
        },
        "id": "balS-fukJ-AX",
        "outputId": "05ebba44-f509-4b63-d8ab-c2ad5f94e460"
      },
      "execution_count": null,
      "outputs": [
        {
          "output_type": "display_data",
          "data": {
            "text/plain": [
              "<Figure size 864x864 with 1 Axes>"
            ],
            "image/png": "[encoded data removed]"
          },
          "metadata": {
            "needs_background": "light"
          }
        }
      ]
    },
    {
      "cell_type": "markdown",
      "source": [
        "**Représentation des variables**"
      ],
      "metadata": {
        "id": "DgWXV4vVMEYK"
      }
    },
    {
      "cell_type": "markdown",
      "source": [
        " vecteurs propres pour l’analyse des variables"
      ],
      "metadata": {
        "id": "WYUxf_cBMX_Z"
      }
    },
    {
      "cell_type": "code",
      "source": [
        "print(acp.components_)"
      ],
      "metadata": {
        "colab": {
          "base_uri": "https://localhost:8080/"
        },
        "id": "XM-ubTbCK1s8",
        "outputId": "3f49680b-5b31-49d2-b6ec-538f6799be9e"
      },
      "execution_count": null,
      "outputs": [
        {
          "output_type": "stream",
          "name": "stdout",
          "text": [
            "[[ 0.42493602  0.42179441  0.42145993  0.38692224  0.43051198  0.35894427]\n",
            " [ 0.12419108  0.41577389 -0.41181773 -0.446087   -0.24267581  0.6198626 ]\n",
            " [-0.35361252 -0.18492049  0.06763394  0.60486812 -0.48439601  0.48547226]\n",
            " [ 0.80778648 -0.35779199 -0.27975231  0.21156941 -0.30171136 -0.0735743 ]\n",
            " [ 0.15158003 -0.29373465  0.73056903 -0.47819008 -0.30455842  0.18865511]\n",
            " [-0.05889517 -0.63303302 -0.19029153 -0.10956624  0.5808122   0.45852167]]\n"
          ]
        }
      ]
    },
    {
      "cell_type": "markdown",
      "source": [
        "les facteurs sont en ligne, les variables en colonne"
      ],
      "metadata": {
        "id": "N8EK0ZYfPI2s"
      }
    },
    {
      "cell_type": "markdown",
      "source": [
        "racine carrée des valeurs propres"
      ],
      "metadata": {
        "id": "JJEWndT9NW9C"
      }
    },
    {
      "cell_type": "code",
      "source": [
        "import numpy\n",
        "sqrt_eigval = numpy.sqrt(eigval)"
      ],
      "metadata": {
        "id": "7BV_twJbMct2"
      },
      "execution_count": null,
      "outputs": []
    },
    {
      "cell_type": "markdown",
      "source": [
        "corvar : matrice des corrélations variables avec les axes"
      ],
      "metadata": {
        "id": "Ck0TViHBNngB"
      }
    },
    {
      "cell_type": "code",
      "source": [
        "corvar = numpy.zeros((m,m))\n",
        "for k in range(m):\n",
        "  corvar[:,k] = acp.components_[k,:] * sqrt_eigval[k]\n",
        "\n",
        "print(corvar)"
      ],
      "metadata": {
        "colab": {
          "base_uri": "https://localhost:8080/"
        },
        "id": "5Jzya5APNaUq",
        "outputId": "457a19d7-5e99-4ad4-957f-09197ded96b9"
      },
      "execution_count": null,
      "outputs": [
        {
          "output_type": "stream",
          "name": "stdout",
          "text": [
            "[[ 0.89346354  0.1149061  -0.21598347  0.37361508  0.04617627 -0.01225391]\n",
            " [ 0.88685803  0.38468911 -0.11294784 -0.16548492 -0.08948124 -0.13171084]\n",
            " [ 0.88615477 -0.38102873  0.04131023 -0.12939024  0.22255537 -0.03959265]\n",
            " [ 0.81353638 -0.4127359   0.36944822  0.09785447 -0.14567244 -0.0227967 ]\n",
            " [ 0.90518746 -0.22453248 -0.29586489 -0.13954667 -0.09277852  0.12084561]\n",
            " [ 0.75471037  0.57351941  0.29652226 -0.03402937  0.05747056  0.09540146]]\n"
          ]
        }
      ]
    },
    {
      "cell_type": "code",
      "source": [
        "print(pandas.DataFrame({'id':X.columns,'COR_1':corvar[:,0],'COR_2':corvar[:,1]}))"
      ],
      "metadata": {
        "colab": {
          "base_uri": "https://localhost:8080/"
        },
        "id": "UNuW2fqPNw6d",
        "outputId": "f7047269-c9f5-4284-982f-5a81ee94c083"
      },
      "execution_count": null,
      "outputs": [
        {
          "output_type": "stream",
          "name": "stdout",
          "text": [
            "      id     COR_1     COR_2\n",
            "0    CYL  0.893464  0.114906\n",
            "1  PUISS  0.886858  0.384689\n",
            "2   LONG  0.886155 -0.381029\n",
            "3   LARG  0.813536 -0.412736\n",
            "4  POIDS  0.905187 -0.224532\n",
            "5  V.MAX  0.754710  0.573519\n"
          ]
        }
      ]
    },
    {
      "cell_type": "markdown",
      "source": [
        "cercle des corrélations"
      ],
      "metadata": {
        "id": "qaulMcduPwXa"
      }
    },
    {
      "cell_type": "code",
      "source": [
        "fig, axes = plt.subplots(figsize=(8,8))\n",
        "axes.set_xlim(-1,1)\n",
        "axes.set_ylim(-1,1)\n",
        "\n",
        "for j in range(m):\n",
        "  plt.annotate(X.columns[j],(corvar[j,0],corvar[j,1]))\n",
        "\n",
        "plt.plot([-1,1],[0,0],color='silver',linestyle='-',linewidth=1)\n",
        "plt.plot([0,0],[-1,1],color='silver',linestyle='-',linewidth=1)\n",
        "\n",
        "cercle = plt.Circle((0,0),1,color='blue',fill=False)\n",
        "axes.add_artist(cercle)\n",
        "\n",
        "plt.show()"
      ],
      "metadata": {
        "colab": {
          "base_uri": "https://localhost:8080/",
          "height": 487
        },
        "id": "HXFhtOTpPsds",
        "outputId": "a4e3fcea-bb21-4c3f-c1a7-2a2e18e8090b"
      },
      "execution_count": null,
      "outputs": [
        {
          "output_type": "display_data",
          "data": {
            "text/plain": [
              "<Figure size 576x576 with 1 Axes>"
            ],
            "image/png": "[encoded data removed]"
          },
          "metadata": {
            "needs_background": "light"
          }
        }
      ]
    },
    {
      "cell_type": "code",
      "source": [],
      "metadata": {
        "id": "5Q2oSRcpQCHG"
      },
      "execution_count": null,
      "outputs": []
    }
  ]
}